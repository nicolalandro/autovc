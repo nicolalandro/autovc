{
 "cells": [
  {
   "cell_type": "markdown",
   "id": "russian-aging",
   "metadata": {},
   "source": [
    "# Create spectrogram dataset\n",
    "Create a folder wavs with inside folder with a letter and a number for example \"p225\", inside this subfolder put all audio you have for that speacker"
   ]
  },
  {
   "cell_type": "code",
   "execution_count": 15,
   "id": "classified-lodging",
   "metadata": {},
   "outputs": [
    {
     "name": "stdout",
     "output_type": "stream",
     "text": [
      "Found directory: ./wavs\n",
      "i300\n",
      "i301\n",
      "p225\n",
      "p226\n",
      "p227\n",
      "p228\n"
     ]
    }
   ],
   "source": [
    "! python3 make_spect.py"
   ]
  },
  {
   "cell_type": "markdown",
   "id": "published-preservation",
   "metadata": {},
   "source": [
    "# Encode the speakers"
   ]
  },
  {
   "cell_type": "code",
   "execution_count": 16,
   "id": "cardiac-brook",
   "metadata": {},
   "outputs": [
    {
     "name": "stdout",
     "output_type": "stream",
     "text": [
      "Found directory: ./spmel\n",
      "Processing speaker: i300\n",
      "Processing speaker: i301\n",
      "Processing speaker: p225\n",
      "Processing speaker: p226\n",
      "Processing speaker: p227\n",
      "Processing speaker: p228\n"
     ]
    }
   ],
   "source": [
    "! python3 make_metadata.py"
   ]
  },
  {
   "cell_type": "markdown",
   "id": "flexible-constant",
   "metadata": {},
   "source": [
    "# Train"
   ]
  },
  {
   "cell_type": "code",
   "execution_count": null,
   "id": "useful-proof",
   "metadata": {},
   "outputs": [
    {
     "name": "stdout",
     "output_type": "stream",
     "text": [
      "Namespace(batch_size=2, data_dir='./spmel', dim_emb=256, dim_neck=32, dim_pre=512, freq=32, lambda_cd=1, len_crop=128, log_step=10, num_iters=5000)\n",
      "Finished loading the dataset...\n",
      "Start training...\n",
      "/media/mint/Barracuda/Models/autovc/solver_encoder.py:90: UserWarning: Using a target size (torch.Size([2, 1, 128, 80])) that is different to the input size (torch.Size([2, 128, 80])). This will likely lead to incorrect results due to broadcasting. Please ensure they have the same size.\n",
      "  g_loss_id = F.mse_loss(x_real, x_identic)\n",
      "/media/mint/Barracuda/Models/autovc/solver_encoder.py:91: UserWarning: Using a target size (torch.Size([2, 1, 128, 80])) that is different to the input size (torch.Size([2, 128, 80])). This will likely lead to incorrect results due to broadcasting. Please ensure they have the same size.\n",
      "  g_loss_id_psnt = F.mse_loss(x_real, x_identic_psnt)\n",
      "Elapsed [0:00:00], Iteration [10/5000], G/loss_id: 0.1029, G/loss_id_psnt: 1.0780, G/loss_cd: 0.1072\n",
      "Elapsed [0:00:01], Iteration [20/5000], G/loss_id: 0.0433, G/loss_id_psnt: 0.9545, G/loss_cd: 0.1098\n",
      "Elapsed [0:00:02], Iteration [30/5000], G/loss_id: 0.0731, G/loss_id_psnt: 0.7493, G/loss_cd: 0.0854\n",
      "Elapsed [0:00:03], Iteration [40/5000], G/loss_id: 0.2144, G/loss_id_psnt: 0.4566, G/loss_cd: 0.0911\n",
      "Elapsed [0:00:04], Iteration [50/5000], G/loss_id: 0.2463, G/loss_id_psnt: 0.3532, G/loss_cd: 0.0934\n"
     ]
    }
   ],
   "source": [
    "! python3 main.py --num_iters 5000 --dim_neck 32 --dim_emb 256 --dim_pre 512 --freq 32"
   ]
  },
  {
   "cell_type": "code",
   "execution_count": null,
   "id": "activated-polyester",
   "metadata": {},
   "outputs": [],
   "source": []
  }
 ],
 "metadata": {
  "kernelspec": {
   "display_name": "Python 3",
   "language": "python",
   "name": "python3"
  },
  "language_info": {
   "codemirror_mode": {
    "name": "ipython",
    "version": 3
   },
   "file_extension": ".py",
   "mimetype": "text/x-python",
   "name": "python",
   "nbconvert_exporter": "python",
   "pygments_lexer": "ipython3",
   "version": "3.6.9"
  }
 },
 "nbformat": 4,
 "nbformat_minor": 5
}
