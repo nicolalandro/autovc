{
 "cells": [
  {
   "cell_type": "markdown",
   "id": "falling-allowance",
   "metadata": {},
   "source": [
    "# Create spectrogram dataset\n",
    "Create a folder wavs with inside folder with a letter and a number for example \"p225\", inside this subfolder put all audio you have for that speacker"
   ]
  },
  {
   "cell_type": "code",
   "execution_count": 15,
   "id": "downtown-leather",
   "metadata": {},
   "outputs": [
    {
     "name": "stdout",
     "output_type": "stream",
     "text": [
      "Found directory: ./wavs\n",
      "i300\n",
      "i301\n",
      "p225\n",
      "p226\n",
      "p227\n",
      "p228\n"
     ]
    }
   ],
   "source": [
    "! python3 make_spect.py"
   ]
  },
  {
   "cell_type": "markdown",
   "id": "private-encoding",
   "metadata": {},
   "source": [
    "# Encode the speakers"
   ]
  },
  {
   "cell_type": "code",
   "execution_count": 16,
   "id": "signal-focus",
   "metadata": {},
   "outputs": [
    {
     "name": "stdout",
     "output_type": "stream",
     "text": [
      "Found directory: ./spmel\n",
      "Processing speaker: i300\n",
      "Processing speaker: i301\n",
      "Processing speaker: p225\n",
      "Processing speaker: p226\n",
      "Processing speaker: p227\n",
      "Processing speaker: p228\n"
     ]
    }
   ],
   "source": [
    "! python3 make_metadata.py"
   ]
  },
  {
   "cell_type": "markdown",
   "id": "proof-extraction",
   "metadata": {},
   "source": [
    "# Train"
   ]
  },
  {
   "cell_type": "code",
   "execution_count": 25,
   "id": "horizontal-result",
   "metadata": {},
   "outputs": [
    {
     "name": "stdout",
     "output_type": "stream",
     "text": [
      "Namespace(batch_size=2, data_dir='./spmel', dim_emb=256, dim_neck=32, dim_pre=512, freq=32, lambda_cd=1, len_crop=128, log_step=10, num_iters=500, pretrained=None)\n",
      "Finished loading the dataset...\n",
      "Start training...\n",
      "/media/mint/Barracuda/Models/autovc/solver_encoder.py:93: UserWarning: Using a target size (torch.Size([2, 1, 128, 80])) that is different to the input size (torch.Size([2, 128, 80])). This will likely lead to incorrect results due to broadcasting. Please ensure they have the same size.\n",
      "  g_loss_id = F.mse_loss(x_real, x_identic)\n",
      "/media/mint/Barracuda/Models/autovc/solver_encoder.py:94: UserWarning: Using a target size (torch.Size([2, 1, 128, 80])) that is different to the input size (torch.Size([2, 128, 80])). This will likely lead to incorrect results due to broadcasting. Please ensure they have the same size.\n",
      "  g_loss_id_psnt = F.mse_loss(x_real, x_identic_psnt)\n",
      "Elapsed [0:00:00], Iteration [10/500], G/loss_id: 0.1021, G/loss_id_psnt: 1.0792, G/loss_cd: 0.0993\n",
      "Elapsed [0:00:01], Iteration [20/500], G/loss_id: 0.0344, G/loss_id_psnt: 0.9539, G/loss_cd: 0.0931\n",
      "Elapsed [0:00:02], Iteration [30/500], G/loss_id: 0.0500, G/loss_id_psnt: 0.8064, G/loss_cd: 0.0822\n",
      "Elapsed [0:00:03], Iteration [40/500], G/loss_id: 0.2680, G/loss_id_psnt: 0.3809, G/loss_cd: 0.0797\n",
      "Elapsed [0:00:04], Iteration [50/500], G/loss_id: 0.3271, G/loss_id_psnt: 0.3061, G/loss_cd: 0.0923\n",
      "Elapsed [0:00:05], Iteration [60/500], G/loss_id: 0.2401, G/loss_id_psnt: 0.3238, G/loss_cd: 0.0740\n",
      "Elapsed [0:00:06], Iteration [70/500], G/loss_id: 0.1916, G/loss_id_psnt: 0.4279, G/loss_cd: 0.0815\n",
      "Elapsed [0:00:07], Iteration [80/500], G/loss_id: 0.3274, G/loss_id_psnt: 0.2352, G/loss_cd: 0.0694\n",
      "Elapsed [0:00:08], Iteration [90/500], G/loss_id: 0.2946, G/loss_id_psnt: 0.2508, G/loss_cd: 0.0596\n",
      "Elapsed [0:00:08], Iteration [100/500], G/loss_id: 0.2801, G/loss_id_psnt: 0.2664, G/loss_cd: 0.0536\n",
      "Elapsed [0:00:09], Iteration [110/500], G/loss_id: 0.2528, G/loss_id_psnt: 0.3089, G/loss_cd: 0.0618\n",
      "Elapsed [0:00:10], Iteration [120/500], G/loss_id: 0.2629, G/loss_id_psnt: 0.2815, G/loss_cd: 0.0513\n",
      "Elapsed [0:00:11], Iteration [130/500], G/loss_id: 0.2779, G/loss_id_psnt: 0.2591, G/loss_cd: 0.0484\n",
      "Elapsed [0:00:12], Iteration [140/500], G/loss_id: 0.2702, G/loss_id_psnt: 0.2712, G/loss_cd: 0.0435\n",
      "Elapsed [0:00:13], Iteration [150/500], G/loss_id: 0.2852, G/loss_id_psnt: 0.2699, G/loss_cd: 0.0436\n",
      "Elapsed [0:00:14], Iteration [160/500], G/loss_id: 0.2713, G/loss_id_psnt: 0.2624, G/loss_cd: 0.0437\n",
      "Elapsed [0:00:15], Iteration [170/500], G/loss_id: 0.2836, G/loss_id_psnt: 0.2535, G/loss_cd: 0.0401\n",
      "Elapsed [0:00:16], Iteration [180/500], G/loss_id: 0.2781, G/loss_id_psnt: 0.2561, G/loss_cd: 0.0377\n",
      "Elapsed [0:00:16], Iteration [190/500], G/loss_id: 0.2654, G/loss_id_psnt: 0.2683, G/loss_cd: 0.0358\n",
      "Elapsed [0:00:17], Iteration [200/500], G/loss_id: 0.2808, G/loss_id_psnt: 0.2634, G/loss_cd: 0.0337\n",
      "Elapsed [0:00:18], Iteration [210/500], G/loss_id: 0.2721, G/loss_id_psnt: 0.2617, G/loss_cd: 0.0335\n",
      "Elapsed [0:00:19], Iteration [220/500], G/loss_id: 0.2638, G/loss_id_psnt: 0.2614, G/loss_cd: 0.0343\n",
      "Elapsed [0:00:20], Iteration [230/500], G/loss_id: 0.2765, G/loss_id_psnt: 0.2741, G/loss_cd: 0.0312\n",
      "Elapsed [0:00:21], Iteration [240/500], G/loss_id: 0.2688, G/loss_id_psnt: 0.2695, G/loss_cd: 0.0287\n",
      "Elapsed [0:00:22], Iteration [250/500], G/loss_id: 0.2640, G/loss_id_psnt: 0.2603, G/loss_cd: 0.0263\n",
      "Elapsed [0:00:23], Iteration [260/500], G/loss_id: 0.2771, G/loss_id_psnt: 0.2724, G/loss_cd: 0.0268\n",
      "Elapsed [0:00:24], Iteration [270/500], G/loss_id: 0.2448, G/loss_id_psnt: 0.2694, G/loss_cd: 0.0312\n",
      "Elapsed [0:00:24], Iteration [280/500], G/loss_id: 0.2675, G/loss_id_psnt: 0.2657, G/loss_cd: 0.0259\n",
      "Elapsed [0:00:25], Iteration [290/500], G/loss_id: 0.2625, G/loss_id_psnt: 0.2609, G/loss_cd: 0.0232\n",
      "Elapsed [0:00:26], Iteration [300/500], G/loss_id: 0.2600, G/loss_id_psnt: 0.2655, G/loss_cd: 0.0254\n",
      "Elapsed [0:00:27], Iteration [310/500], G/loss_id: 0.2619, G/loss_id_psnt: 0.2574, G/loss_cd: 0.0230\n",
      "Elapsed [0:00:28], Iteration [320/500], G/loss_id: 0.2682, G/loss_id_psnt: 0.2603, G/loss_cd: 0.0213\n",
      "Elapsed [0:00:29], Iteration [330/500], G/loss_id: 0.2669, G/loss_id_psnt: 0.2569, G/loss_cd: 0.0216\n",
      "Elapsed [0:00:30], Iteration [340/500], G/loss_id: 0.2553, G/loss_id_psnt: 0.2773, G/loss_cd: 0.0215\n",
      "Elapsed [0:00:31], Iteration [350/500], G/loss_id: 0.2709, G/loss_id_psnt: 0.2571, G/loss_cd: 0.0215\n",
      "Elapsed [0:00:32], Iteration [360/500], G/loss_id: 0.2548, G/loss_id_psnt: 0.2524, G/loss_cd: 0.0195\n",
      "Elapsed [0:00:33], Iteration [370/500], G/loss_id: 0.2544, G/loss_id_psnt: 0.2565, G/loss_cd: 0.0208\n",
      "Elapsed [0:00:34], Iteration [380/500], G/loss_id: 0.2548, G/loss_id_psnt: 0.2548, G/loss_cd: 0.0214\n",
      "Elapsed [0:00:35], Iteration [390/500], G/loss_id: 0.2545, G/loss_id_psnt: 0.2576, G/loss_cd: 0.0153\n",
      "Elapsed [0:00:35], Iteration [400/500], G/loss_id: 0.2505, G/loss_id_psnt: 0.2511, G/loss_cd: 0.0217\n",
      "Elapsed [0:00:36], Iteration [410/500], G/loss_id: 0.2616, G/loss_id_psnt: 0.2469, G/loss_cd: 0.0165\n",
      "Elapsed [0:00:37], Iteration [420/500], G/loss_id: 0.2515, G/loss_id_psnt: 0.2503, G/loss_cd: 0.0171\n",
      "Elapsed [0:00:38], Iteration [430/500], G/loss_id: 0.2521, G/loss_id_psnt: 0.2553, G/loss_cd: 0.0157\n",
      "Elapsed [0:00:39], Iteration [440/500], G/loss_id: 0.2719, G/loss_id_psnt: 0.2794, G/loss_cd: 0.0186\n",
      "Elapsed [0:00:40], Iteration [450/500], G/loss_id: 0.2547, G/loss_id_psnt: 0.2646, G/loss_cd: 0.0157\n",
      "Elapsed [0:00:41], Iteration [460/500], G/loss_id: 0.2437, G/loss_id_psnt: 0.2513, G/loss_cd: 0.0132\n",
      "Elapsed [0:00:42], Iteration [470/500], G/loss_id: 0.2519, G/loss_id_psnt: 0.2560, G/loss_cd: 0.0142\n",
      "Elapsed [0:00:43], Iteration [480/500], G/loss_id: 0.2541, G/loss_id_psnt: 0.2415, G/loss_cd: 0.0130\n",
      "Elapsed [0:00:44], Iteration [490/500], G/loss_id: 0.2446, G/loss_id_psnt: 0.2606, G/loss_cd: 0.0160\n",
      "Elapsed [0:00:45], Iteration [500/500], G/loss_id: 0.2500, G/loss_id_psnt: 0.2476, G/loss_cd: 0.0124\n",
      "saving model...\n"
     ]
    }
   ],
   "source": [
    "# ! python3 main.py --num_iters 500 --dim_neck 32 --dim_emb 256 --dim_pre 512 --freq 32  --pretrained \"autovc.ckpt\"\n",
    "! python3 main.py --num_iters 10 --dim_neck 32 --dim_emb 256 --dim_pre 512 --freq 32"
   ]
  }
 ],
 "metadata": {
  "kernelspec": {
   "display_name": "Python 3",
   "language": "python",
   "name": "python3"
  },
  "language_info": {
   "codemirror_mode": {
    "name": "ipython",
    "version": 3
   },
   "file_extension": ".py",
   "mimetype": "text/x-python",
   "name": "python",
   "nbconvert_exporter": "python",
   "pygments_lexer": "ipython3",
   "version": "3.6.9"
  }
 },
 "nbformat": 4,
 "nbformat_minor": 5
}
