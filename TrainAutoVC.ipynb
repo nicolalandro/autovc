{
  "nbformat": 4,
  "nbformat_minor": 0,
  "metadata": {
    "colab": {
      "name": "TrainAutoVC.ipynb",
      "provenance": [],
      "collapsed_sections": []
    },
    "kernelspec": {
      "name": "python3",
      "display_name": "Python 3"
    },
    "language_info": {
      "name": "python"
    },
    "accelerator": "GPU"
  },
  "cells": [
    {
      "cell_type": "markdown",
      "metadata": {
        "id": "UezbTR5p-4km"
      },
      "source": [
        "Clone the repo"
      ]
    },
    {
      "cell_type": "code",
      "metadata": {
        "colab": {
          "base_uri": "https://localhost:8080/"
        },
        "id": "_AvON4vI6GOH",
        "outputId": "1d84fc5d-ba0e-4cfc-98e2-2b02cb06095b"
      },
      "source": [
        "!git clone https://github.com/nicolalandro/autovc.git"
      ],
      "execution_count": 1,
      "outputs": [
        {
          "output_type": "stream",
          "name": "stdout",
          "text": [
            "Cloning into 'autovc'...\n",
            "remote: Enumerating objects: 226, done.\u001b[K\n",
            "remote: Counting objects: 100% (131/131), done.\u001b[K\n",
            "remote: Compressing objects: 100% (100/100), done.\u001b[K\n",
            "remote: Total 226 (delta 61), reused 99 (delta 31), pack-reused 95\u001b[K\n",
            "Receiving objects: 100% (226/226), 15.97 MiB | 19.24 MiB/s, done.\n",
            "Resolving deltas: 100% (80/80), done.\n"
          ]
        }
      ]
    },
    {
      "cell_type": "markdown",
      "metadata": {
        "id": "m8D-liki-7LA"
      },
      "source": [
        "Download pre trained models"
      ]
    },
    {
      "cell_type": "code",
      "metadata": {
        "colab": {
          "base_uri": "https://localhost:8080/"
        },
        "id": "oNrizu4c9VN4",
        "outputId": "5b2cc2da-92d0-4aaa-ff3e-96aafbafd362"
      },
      "source": [
        "%%bash\n",
        "cd autovc\n",
        "\n",
        "wget https://github.com/nicolalandro/autovc/releases/download/0.1/3000000-BL.ckpt\n",
        "wget https://github.com/nicolalandro/autovc/releases/download/0.1/autovc.ckpt"
      ],
      "execution_count": 4,
      "outputs": [
        {
          "output_type": "stream",
          "name": "stdout",
          "text": [
            "Requirement already satisfied: torch in /usr/local/lib/python3.7/dist-packages (1.9.0+cu102)\n",
            "Requirement already satisfied: torchvision in /usr/local/lib/python3.7/dist-packages (0.10.0+cu102)\n",
            "Requirement already satisfied: typing-extensions in /usr/local/lib/python3.7/dist-packages (from torch) (3.7.4.3)\n",
            "Requirement already satisfied: pillow>=5.3.0 in /usr/local/lib/python3.7/dist-packages (from torchvision) (7.1.2)\n",
            "Requirement already satisfied: numpy in /usr/local/lib/python3.7/dist-packages (from torchvision) (1.19.5)\n"
          ]
        }
      ]
    },
    {
      "cell_type": "markdown",
      "metadata": {
        "id": "43wJrc1u_No_"
      },
      "source": [
        "Prepare dataset.\n",
        "In particulare you have audio on folder wavs, you can see the shape to create your dataset."
      ]
    },
    {
      "cell_type": "code",
      "metadata": {
        "colab": {
          "base_uri": "https://localhost:8080/"
        },
        "id": "qOgBkmDk_PBc",
        "outputId": "88172472-25e4-46d0-8eb4-0c1b1bd1fd46"
      },
      "source": [
        "%%bash\n",
        "cd autovc\n",
        "\n",
        "python make_spect.py \\\n",
        "    --root-dir=\"./wavs\" \\\n",
        "    --target-dir=\"./spmel\"\n",
        "\n",
        "python make_metadata.py --root-dir=\"./spmel\""
      ],
      "execution_count": 6,
      "outputs": [
        {
          "output_type": "stream",
          "name": "stdout",
          "text": [
            "Found directory: ./wavs\n",
            "i300\n",
            "i301\n",
            "p225\n",
            "p226\n",
            "p227\n",
            "p228\n",
            "Found directory: ./spmel\n",
            "Processing speaker: i300\n",
            "Processing speaker: i301\n",
            "Processing speaker: p225\n",
            "Processing speaker: p226\n",
            "Processing speaker: p227\n",
            "Processing speaker: p228\n",
            "END\n"
          ]
        }
      ]
    },
    {
      "cell_type": "markdown",
      "metadata": {
        "id": "M6D98k-__hC7"
      },
      "source": [
        "Train the model"
      ]
    },
    {
      "cell_type": "code",
      "metadata": {
        "colab": {
          "base_uri": "https://localhost:8080/"
        },
        "id": "WinlUHp76SuW",
        "outputId": "0608a074-f664-444c-8437-b374d6050590"
      },
      "source": [
        "%%bash\n",
        "cd autovc\n",
        "\n",
        "python main.py --data_dir=\"./spmel\" \\\n",
        "    --outfile-path=\"./generator.pth\" \\\n",
        "    --num_iters 5 --batch_size 5 --dim_neck 32 --dim_emb 256 --dim_pre 512 --freq 32 --pretrained \"autovc.ckpt\""
      ],
      "execution_count": 8,
      "outputs": [
        {
          "output_type": "stream",
          "name": "stdout",
          "text": [
            "Namespace(batch_size=5, data_dir='./spmel', dim_emb=256, dim_neck=32, dim_pre=512, freq=32, lambda_cd=1, len_crop=128, log_step=10, num_iters=5, outfile_path='./generator.pth', pretrained='autovc.ckpt')\n",
            "Finished loading the dataset...\n",
            "load pretrained...\n",
            "Start training...\n",
            "saving model...\n"
          ]
        }
      ]
    },
    {
      "cell_type": "markdown",
      "metadata": {
        "id": "_RvwJgzO_wan"
      },
      "source": [
        "Download the model (wait the bar to end charge)"
      ]
    },
    {
      "cell_type": "code",
      "metadata": {
        "colab": {
          "base_uri": "https://localhost:8080/",
          "height": 17
        },
        "id": "iJlWR6bi_x1s",
        "outputId": "cecaa1cf-4598-40ee-a1b3-aec870135c7a"
      },
      "source": [
        "from google.colab import files\n",
        "files.download('autovc/generator.pth') "
      ],
      "execution_count": 9,
      "outputs": [
        {
          "output_type": "display_data",
          "data": {
            "application/javascript": [
              "\n",
              "    async function download(id, filename, size) {\n",
              "      if (!google.colab.kernel.accessAllowed) {\n",
              "        return;\n",
              "      }\n",
              "      const div = document.createElement('div');\n",
              "      const label = document.createElement('label');\n",
              "      label.textContent = `Downloading \"${filename}\": `;\n",
              "      div.appendChild(label);\n",
              "      const progress = document.createElement('progress');\n",
              "      progress.max = size;\n",
              "      div.appendChild(progress);\n",
              "      document.body.appendChild(div);\n",
              "\n",
              "      const buffers = [];\n",
              "      let downloaded = 0;\n",
              "\n",
              "      const channel = await google.colab.kernel.comms.open(id);\n",
              "      // Send a message to notify the kernel that we're ready.\n",
              "      channel.send({})\n",
              "\n",
              "      for await (const message of channel.messages) {\n",
              "        // Send a message to notify the kernel that we're ready.\n",
              "        channel.send({})\n",
              "        if (message.buffers) {\n",
              "          for (const buffer of message.buffers) {\n",
              "            buffers.push(buffer);\n",
              "            downloaded += buffer.byteLength;\n",
              "            progress.value = downloaded;\n",
              "          }\n",
              "        }\n",
              "      }\n",
              "      const blob = new Blob(buffers, {type: 'application/binary'});\n",
              "      const a = document.createElement('a');\n",
              "      a.href = window.URL.createObjectURL(blob);\n",
              "      a.download = filename;\n",
              "      div.appendChild(a);\n",
              "      a.click();\n",
              "      div.remove();\n",
              "    }\n",
              "  "
            ],
            "text/plain": [
              "<IPython.core.display.Javascript object>"
            ]
          },
          "metadata": {}
        },
        {
          "output_type": "display_data",
          "data": {
            "application/javascript": [
              "download(\"download_d19427d8-b9f8-42da-a2fa-2425080d11ae\", \"generator.pth\", 113762799)"
            ],
            "text/plain": [
              "<IPython.core.display.Javascript object>"
            ]
          },
          "metadata": {}
        }
      ]
    }
  ]
}